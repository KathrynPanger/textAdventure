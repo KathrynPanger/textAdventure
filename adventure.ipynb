{
 "cells": [
  {
   "cell_type": "code",
   "execution_count": 1,
   "metadata": {},
   "outputs": [],
   "source": [
    "class player:\n",
    "    def __init__(self, name):\n",
    "        self.name= name\n",
    "        self.inventory=[]\n",
    "        self.location=\"Hallway\"\n",
    "        \n",
    "    def getItem(item):\n",
    "        self.inventory.append(item)\n",
    "    \n",
    "    def loseItem(item):\n",
    "        self.inventory.remove(item)\n",
    "\n",
    "    def moveTo(location):\n",
    "        self.location=location"
   ]
  },
  {
   "cell_type": "code",
   "execution_count": 5,
   "metadata": {},
   "outputs": [],
   "source": [
    "import enum"
   ]
  },
  {
   "cell_type": "code",
   "execution_count": 2,
   "metadata": {},
   "outputs": [],
   "source": [
    "class room:\n",
    "    def __init__(self, name, description, briefDescription, loot, scenery, supporters, exits, things):\n",
    "        self.name= name\n",
    "        self.is_visited=False\n",
    "        self.description = description\n",
    "        self.briefDescription=briefDescription\n",
    "        self.things=things\n",
    "        self.exits = exits #an array of n,s,e,w exits (e.g. [0,0,1,1])\n",
    "        \n",
    "    def getItem(self,item):\n",
    "        self.things.append(item)\n",
    "\n",
    "    def loseItem(self,item):\n",
    "        self.things.remove(item)\n",
    "\n",
    "    def visit(self):\n",
    "        self.is_visited=True"
   ]
  },
  {
   "cell_type": "code",
   "execution_count": 13,
   "metadata": {},
   "outputs": [],
   "source": [
    "class Kind(enum.Enum):\n",
    "    supporter = enum.auto()\n",
    "    container = enum.auto()\n",
    "    carryable = enum.auto()\n",
    "    scenery = enum.auto()\n",
    "\n",
    "class thing:\n",
    "    def __init__(self, name, description, briefDescription, kind, location):\n",
    "        self.name = name\n",
    "        self.kind = Kind[kind]\n",
    "        self.description = description\n",
    "        self.briefDescription = briefDescription\n",
    "        self.location = location \n",
    "        self.is_haunted = False\n",
    "\n",
    "    def take(self,is_held):\n",
    "        if is_held == False:\n",
    "            self.is_held = True\n",
    "\n",
    "    def haunt(self,is_held):\n",
    "        if is_haunted == False:\n",
    "            self.is_held = True"
   ]
  },
  {
   "cell_type": "code",
   "execution_count": 1,
   "metadata": {},
   "outputs": [],
   "source": [
    "def flatten_list(_2d_list):\n",
    "    flat_list = []\n",
    "    # Iterate through the outer list\n",
    "    for element in _2d_list:\n",
    "        if type(element) is list:\n",
    "            # If the element is of type list, iterate through the sublist\n",
    "            for item in element:\n",
    "                flat_list.append(item)\n",
    "        else:\n",
    "            flat_list.append(element)\n",
    "    return flat_list\n"
   ]
  },
  {
   "cell_type": "code",
   "execution_count": 2,
   "metadata": {},
   "outputs": [],
   "source": [
    "class Action(enum.Enum):\n",
    "    take = enum.auto()\n",
    "    switchOn = enum.auto()\n",
    "    switchOff = enum.auto()\n",
    "    drop = enum.auto()\n",
    "    use = enum.auto()\n",
    "    openIt = enum.auto()\n",
    "    closeIt = enum.auto()\n",
    "    look = enum.auto()\n",
    "    read = enum.auto()\n",
    "    push = enum.auto()\n",
    "    pull = enum.auto()\n",
    "\n",
    "    \n",
    "\n",
    "twoWordsList={\"pick up\",\"check inventory\", \"look at\"}\n",
    "removeList={\"up\", \"check\", \"switch\", \"with\"}\n",
    "takeList={\"take\",\"grab\", \"pick\"}\n",
    "dropList = {\"put\", \"drop\"}\n",
    "useList={\"combine\",\"use\"}\n",
    "openList={\"open\"}\n",
    "closeList={\"close\"}\n",
    "lookList={\"look\",\"examine\"}\n",
    "readList = {\"read\"}\n",
    "pushList = {\"push\"}\n",
    "pullList = {\"pull\"}\n",
    "switchOnList = {\"on\"}\n",
    "switchOffList={\"off\"}\n",
    "toggleList={\"toggle\"}\n",
    "inventoryList = {\"i\", \"inventory\"}\n",
    "\n",
    "#first look for \"up\" as a direction\n",
    "\n",
    "actionLists=(takeList | dropList | useList,openList | closeList | lookList |\n",
    "    pushList | pullList | switchOnList | switchOffList | toggleList | inventoryList)\n",
    "def validateCommand(command):\n",
    "    isValid=False\n",
    "    theCommand=[item for item in command.lower().split() if item not in removeList]\n",
    "    firstWord=theCommand[0]\n",
    "    if firstWord not in actionLists:\n",
    "        return(isValid)\n",
    "    if firstWord in takeList:\n",
    "        theAction= Action.take\n",
    "    elif firstTwoWords in switcOnList:\n",
    "        theAction = Action.switchOn\n",
    "    elif firstTwoWords in switchOffList:\n",
    "        theAction = Action.switchOff\n",
    "    elif firstWord in droplist:\n",
    "        theAction=Action.drop\n",
    "    elif firstWord in uselist:\n",
    "        theAction= Action.use\n",
    "    elif firstWord in openList:\n",
    "        theAction= Action.openIt\n",
    "    elif firstWord in closeList:\n",
    "        theAction= \"close\"\n",
    "    elif firstWord in lookList:\n",
    "        theAction=\"look\"\n",
    "    elif firstWord in readList:\n",
    "        theAction=\"read\"\n",
    "    elif firstWord in pushList:\n",
    "        theAction = \"push\"\n",
    "    elif firstWord in pullList:\n",
    "        theAction=\"pull\"\n",
    "\n",
    "  "
   ]
  },
  {
   "cell_type": "code",
   "execution_count": null,
   "metadata": {},
   "outputs": [],
   "source": [
    "ErNotHere= f\"You don't see any {theItem} here.\"\n",
    "ErTooHeavy= f\"The {theItem} is too heavy to take with you.\"\n",
    "ErDontNeed= f\"You don't need the {theItem}.\"\n",
    "ErDontUnderstand = \"I don't understand. For a list of commands, type 'commands' or 'c'\"\n",
    "\n"
   ]
  },
  {
   "cell_type": "code",
   "execution_count": 16,
   "metadata": {},
   "outputs": [],
   "source": [
    "turnCount=0\n",
    "gameOn=1\n",
    "while gameOn:\n",
    "    if turnCount == 0:\n",
    "        command=input(\"What is your name?\")\n",
    "        thePlayer=player(command)\n",
    "        turnCount+=1\n",
    "        continue\n",
    "    else:\n",
    "        command=input(f\"{thePlayer.name}:\")\n",
    "        theRoom=thePlayer.room\n",
    "        theLocation=thePlayer.location\n",
    "        turnCount+=1\n",
    "        if command == \"quit\":\n",
    "            gameOn=0"
   ]
  },
  {
   "cell_type": "code",
   "execution_count": null,
   "metadata": {},
   "outputs": [],
   "source": [
    "class Enterable(Protocol)"
   ]
  }
 ],
 "metadata": {
  "interpreter": {
   "hash": "566c7dc836cf49ea79a80bde3a77d731ae67019fab1def2dd83c01090ce827fd"
  },
  "kernelspec": {
   "display_name": "Python 3.8.5 64-bit",
   "name": "python3"
  },
  "language_info": {
   "codemirror_mode": {
    "name": "ipython",
    "version": 3
   },
   "file_extension": ".py",
   "mimetype": "text/x-python",
   "name": "python",
   "nbconvert_exporter": "python",
   "pygments_lexer": "ipython3",
   "version": "3.8.5"
  },
  "orig_nbformat": 4
 },
 "nbformat": 4,
 "nbformat_minor": 2
}