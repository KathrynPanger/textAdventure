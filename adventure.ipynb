{
 "cells": [
  {
   "cell_type": "code",
   "execution_count": 8,
   "metadata": {},
   "outputs": [],
   "source": [
    "class player:\n",
    "    def __init__(self, name):\n",
    "        self.name= name\n",
    "        self.inventory=[]\n",
    "        self.location=\"Hallway\"\n",
    "        self.compass = [1,1,0,0]\n",
    "        \n",
    "    def takeItem(item):\n",
    "        self.inventory.append(item)"
   ]
  },
  {
   "cell_type": "code",
   "execution_count": 17,
   "metadata": {},
   "outputs": [],
   "source": [
    "class room:\n",
    "    def __init__(self, name, description, briefDescription, loot, scenery, exits):\n",
    "        self.name= name\n",
    "        is_visited=False\n",
    "        self.description = description\n",
    "        self.briefDescription=briefDescription\n",
    "        self.loot=list(loot)\n",
    "        self.scenery=list(scenery)\n",
    "        self.exits = exits #an array of n,s,e,w exits (e.g. [0,0,1,1])\n",
    "        \n",
    "    def getItem(self,item):\n",
    "        self.loot.append(item)\n",
    "\n",
    "    def loseItem(self,item):\n",
    "        self.loot.remove(item)\n",
    "\n",
    "    def visit(self):\n",
    "        self.is_visited=True"
   ]
  },
  {
   "cell_type": "code",
   "execution_count": null,
   "metadata": {},
   "outputs": [],
   "source": [
    "takeList=[\"take\",\"pick\", \"grab\"]\n",
    "uselist=[\"combine\",\"use\"]\n",
    "def descipherCommand(command):\n",
    "  theCommand=command.split()\n",
    "  #reduce the command to either 1, 2 or 3 word groups, rejecting all commands which cannot be\n",
    "  #remove words \"the\", \"with\", \"on\",\"to\", \"up\" if present\n",
    "  if len(theCommand)==3:\n",
    "    if theCommand[0] in useList:\n",
    "      theAction=\"use\"\n",
    "      theFirstNoun=theCommand[1]\n",
    "      theSecondNoun=theCommand[-1]\n",
    "  elif len(theCommand)==2:\n",
    "    if theCommand[0]in takeList:\n",
    "      theAction=\"take\"\n",
    "      theNoun=theCommand[1]\n",
    "      return(theAction, theNoun)\n",
    "  elif len(theCommand)==1:\n",
    "    #inventory, look, north, south, east, west, wait\n",
    "\n",
    "  else:\n",
    "    return(\"fail\")\n",
    "    "
   ]
  },
  {
   "cell_type": "code",
   "execution_count": 23,
   "metadata": {},
   "outputs": [
    {
     "data": {
      "text/plain": [
       "['that']"
      ]
     },
     "execution_count": 23,
     "metadata": {},
     "output_type": "execute_result"
    }
   ],
   "source": [
    "test=[\"this\",\"that\"]\n",
    "test.remove(\"this\")\n",
    "test"
   ]
  },
  {
   "cell_type": "code",
   "execution_count": 16,
   "metadata": {},
   "outputs": [],
   "source": [
    "turnCount=0\n",
    "gameOn=1\n",
    "while gameOn:\n",
    "    if turnCount == 0:\n",
    "        command=input(\"What is your name?\")\n",
    "        thePlayer=player(command)\n",
    "        turnCount+=1\n",
    "        continue\n",
    "    else:\n",
    "        command=input(f\"{thePlayer.name}:\")\n",
    "        theRoom=thePlayer.room\n",
    "        theLocation=thePlayer.location\n",
    "        turnCount+=1\n",
    "        if command == \"quit\":\n",
    "            gameOn=0"
   ]
  }
 ],
 "metadata": {
  "interpreter": {
   "hash": "566c7dc836cf49ea79a80bde3a77d731ae67019fab1def2dd83c01090ce827fd"
  },
  "kernelspec": {
   "display_name": "Python 3.8.5 64-bit ('DataViz': conda)",
   "name": "python3"
  },
  "language_info": {
   "codemirror_mode": {
    "name": "ipython",
    "version": 3
   },
   "file_extension": ".py",
   "mimetype": "text/x-python",
   "name": "python",
   "nbconvert_exporter": "python",
   "pygments_lexer": "ipython3",
   "version": "3.8.5"
  },
  "orig_nbformat": 4
 },
 "nbformat": 4,
 "nbformat_minor": 2
}