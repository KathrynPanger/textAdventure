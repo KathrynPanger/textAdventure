{
 "cells": [
  {
   "cell_type": "code",
   "execution_count": 1,
   "metadata": {},
   "outputs": [],
   "source": [
    "class player:\n",
    "    def __init__(self, name):\n",
    "        self.name= name\n",
    "        self.inventory=[]\n",
    "        self.location=\"Hallway\"\n",
    "        \n",
    "    def getItem(item):\n",
    "        self.inventory.append(item)\n",
    "    \n",
    "    def loseItem(item):\n",
    "        self.inventory.remove(item)\n",
    "\n",
    "    def moveTo(location):\n",
    "        self.location=location"
   ]
  },
  {
   "cell_type": "code",
   "execution_count": 2,
   "metadata": {},
   "outputs": [
    {
     "name": "stdout",
     "output_type": "stream",
     "text": [
      "pygame 2.0.3 (SDL 2.0.16, Python 3.8.5)\n",
      "Hello from the pygame community. https://www.pygame.org/contribute.html\n"
     ]
    }
   ],
   "source": [
    "import enum\n",
    "import pygame"
   ]
  },
  {
   "cell_type": "code",
   "execution_count": 2,
   "metadata": {},
   "outputs": [],
   "source": [
    "class room:\n",
    "    def __init__(self, name, description, briefDescription, loot, scenery, supporters, exits, things):\n",
    "        self.name= name\n",
    "        self.is_visited=False\n",
    "        self.description = description\n",
    "        self.briefDescription=briefDescription\n",
    "        self.things=things\n",
    "        self.exits = exits #an array of n,s,e,w exits (e.g. [0,0,1,1])\n",
    "        \n",
    "    def getItem(self,item):\n",
    "        self.things.append(item)\n",
    "\n",
    "    def loseItem(self,item):\n",
    "        self.things.remove(item)\n",
    "\n",
    "    def visit(self):\n",
    "        self.is_visited=True"
   ]
  },
  {
   "cell_type": "code",
   "execution_count": 13,
   "metadata": {},
   "outputs": [],
   "source": [
    "class Kind(enum.Enum):\n",
    "    supporter = enum.auto()\n",
    "    container = enum.auto()\n",
    "    carryable = enum.auto()\n",
    "    scenery = enum.auto()\n",
    "\n",
    "class thing:\n",
    "    def __init__(self, name, description, briefDescription, kind, location):\n",
    "        self.name = name\n",
    "        self.kind = Kind[kind]\n",
    "        self.description = description\n",
    "        self.briefDescription = briefDescription\n",
    "        self.location = location \n",
    "        self.is_haunted = False\n",
    "\n",
    "    def take(self,is_held):\n",
    "        if is_held == False:\n",
    "            self.is_held = True\n",
    "\n",
    "    def haunt(self,is_held):\n",
    "        if is_haunted == False:\n",
    "            self.is_held = True"
   ]
  },
  {
   "cell_type": "code",
   "execution_count": 1,
   "metadata": {},
   "outputs": [],
   "source": [
    "def flatten_list(_2d_list):\n",
    "    flat_list = []\n",
    "    # Iterate through the outer list\n",
    "    for element in _2d_list:\n",
    "        if type(element) is list:\n",
    "            # If the element is of type list, iterate through the sublist\n",
    "            for item in element:\n",
    "                flat_list.append(item)\n",
    "        else:\n",
    "            flat_list.append(element)\n",
    "    return flat_list\n"
   ]
  },
  {
   "cell_type": "code",
   "execution_count": 116,
   "metadata": {},
   "outputs": [],
   "source": [
    "class Action(enum.Enum):\n",
    "    take = enum.auto()\n",
    "    drop = enum.auto()\n",
    "    use = enum.auto()\n",
    "    openIt = enum.auto()\n",
    "    closeIt = enum.auto()\n",
    "    look = enum.auto()\n",
    "    read = enum.auto()\n",
    "    push = enum.auto()\n",
    "    pull = enum.auto()\n",
    "    switchOn = enum.auto()\n",
    "    switchOff = enum.auto()\n",
    "    toggle = enum.auto()\n",
    "    inventory = enum.auto()\n",
    "    go = enum.auto()\n",
    "    fail = enum.auto()\n",
    "\n",
    "\n",
    "#Command restructuring vars   \n",
    "twoWordsList={\"pick up\",\"check inventory\", \"look at\"}\n",
    "removeList={\"up\", \"check\", \"switch\", \"with\", \"on\", \"in\"}\n",
    "\n",
    "#Action lists\n",
    "takeList={\"take\",\"grab\", \"pick\"}\n",
    "dropList = {\"put\", \"drop\"}\n",
    "useList={\"combine\",\"use\", \"put\"}\n",
    "openList={\"open\"}\n",
    "closeList={\"close\", \"shut\"}\n",
    "lookList={\"look\",\"examine\"}\n",
    "readList = {\"read\"}\n",
    "pushList = {\"push\"}\n",
    "pullList = {\"pull\"}\n",
    "switchOnList = {\"on\"}\n",
    "switchOffList={\"off\"}\n",
    "toggleList={\"toggle\"}\n",
    "inventoryList = {\"i\", \"inventory\"}\n",
    "goList = {\"go\", \"move\"}\n",
    "droplist={\"drop\"}\n",
    "castList = {\"cast\"}\n",
    "directionList = {\"n\",\"s\",\"e\",\"w\", \"north\",\"south\",\"east\",\"west\",\"up\",\"u\",\"down\",\"d\"}\n",
    "\n",
    "\n",
    "actionLists=(takeList | dropList | useList | openList | closeList | lookList |\n",
    "    pushList | pullList | switchOnList | switchOffList | toggleList | inventoryList | goList | directionList | droplist | castList)\n",
    "\n",
    "def validateCommand(command):\n",
    "\n",
    "    is_valid=True\n",
    "    theAction = Action.fail\n",
    "\n",
    "    theCommand=command.lower().split()\n",
    "    firstWord=theCommand[0]\n",
    "    lastWord= theCommand[-1]\n",
    "\n",
    "\n",
    "    theCommand=[item for item in theCommand if item not in removeList]\n",
    "    if firstWord not in actionLists or len(theCommand)>3:\n",
    "        is_valid=False\n",
    "    elif firstWord in goList or firstWord in directionList:\n",
    "        theCommand = [item for item in theCommand if item not in goList]\n",
    "        if len(theCommand) == 1 and theCommand[0] in directionList:\n",
    "            theAction = Action.go\n",
    "            theNoun = theCommand[0][0]\n",
    "        else:\n",
    "            is_valid=False\n",
    "    elif firstWord in takeList:\n",
    "        theAction= Action.take\n",
    "    elif firstWord in switchOnList:\n",
    "        theAction = Action.switchOn\n",
    "    elif firstWord in switchOffList:\n",
    "        theAction = Action.switchOff\n",
    "    elif firstWord in droplist:\n",
    "        theAction=Action.drop\n",
    "    elif firstWord in useList and len(theCommand)==3:\n",
    "        theAction= Action.use\n",
    "    elif firstWord in openList:\n",
    "        theAction= Action.openIt\n",
    "    elif firstWord in closeList:\n",
    "        theAction= Action.closeIt\n",
    "    elif firstWord in lookList:\n",
    "        theAction=Action.look\n",
    "    elif firstWord in readList:\n",
    "        theAction=Action.read\n",
    "    elif firstWord in pushList:\n",
    "        theAction = Action.push\n",
    "    elif firstWord in pullList:\n",
    "        theAction=Action.pull\n",
    "    elif firstWord in castList:\n",
    "        theAction = Action.cast\n",
    "        theNoun=theCommand[1]\n",
    "        theSecondNoun=theCommand[-1]\n",
    "    elif firstword in inventoryList:\n",
    "        theAction = Action.inventory\n",
    "        theNoun=\"i\"\n",
    "    else:\n",
    "        is_valid = False\n",
    "    \n",
    "\n",
    "    print(is_valid)\n",
    "    print(theAction)"
   ]
  },
  {
   "cell_type": "code",
   "execution_count": 117,
   "metadata": {},
   "outputs": [
    {
     "name": "stdout",
     "output_type": "stream",
     "text": [
      "True\n",
      "Action.take\n"
     ]
    }
   ],
   "source": [
    "validateCommand(\"take door jar and box\")"
   ]
  },
  {
   "cell_type": "code",
   "execution_count": 82,
   "metadata": {},
   "outputs": [
    {
     "name": "stdout",
     "output_type": "stream",
     "text": [
      "True\n"
     ]
    }
   ],
   "source": []
  },
  {
   "cell_type": "code",
   "execution_count": null,
   "metadata": {},
   "outputs": [],
   "source": [
    "turnCount=0\n",
    "gameOn=1\n",
    "while gameOn:\n",
    "    if turnCount == 0:\n",
    "        command=input(\"What is your name?\")\n",
    "        thePlayer=player(command)\n",
    "        turnCount+=1\n",
    "        continue\n",
    "    else:\n",
    "        command=input(f\"{thePlayer.name}:\")\n",
    "        theRoom=thePlayer.room\n",
    "        theLocation=thePlayer.location\n",
    "        turnCount+=1\n",
    "        if command == \"quit\":\n",
    "            gameOn=0"
   ]
  },
  {
   "cell_type": "code",
   "execution_count": null,
   "metadata": {},
   "outputs": [],
   "source": [
    "class Enterable(Protocol)"
   ]
  },
  {
   "cell_type": "code",
   "execution_count": null,
   "metadata": {},
   "outputs": [
    {
     "ename": "Error",
     "evalue": "Session cannot generate requests",
     "output_type": "error",
     "traceback": [
      "Error: Session cannot generate requests",
      "at w.executeCodeCell (/home/ygael/.vscode/extensions/ms-toolsai.jupyter-2021.6.999662501/out/client/extension.js:90:328422)",
      "at w.execute (/home/ygael/.vscode/extensions/ms-toolsai.jupyter-2021.6.999662501/out/client/extension.js:90:327811)",
      "at w.start (/home/ygael/.vscode/extensions/ms-toolsai.jupyter-2021.6.999662501/out/client/extension.js:90:323627)",
      "at runMicrotasks (<anonymous>)",
      "at processTicksAndRejections (internal/process/task_queues.js:93:5)",
      "at async t.CellExecutionQueue.executeQueuedCells (/home/ygael/.vscode/extensions/ms-toolsai.jupyter-2021.6.999662501/out/client/extension.js:90:338053)",
      "at async t.CellExecutionQueue.start (/home/ygael/.vscode/extensions/ms-toolsai.jupyter-2021.6.999662501/out/client/extension.js:90:337593)"
     ]
    }
   ],
   "source": [
    "pygame.init()\n",
    "screen = pygame.display.set_mode([500,500])\n",
    "running = True\n",
    "while running:\n",
    "    for event in pygame.event.get():\n",
    "        if event.type == pygame.QUIT:\n",
    "            running = False\n",
    "    screen.fill((255,255,255))\n",
    "    pygame.draw.circle(screen, (0,0,255), 250,250, 75)\n",
    "    pygame.display.flip()\n",
    "pygame.quit()"
   ]
  },
  {
   "cell_type": "code",
   "execution_count": null,
   "metadata": {},
   "outputs": [],
   "source": []
  },
  {
   "cell_type": "code",
   "execution_count": null,
   "metadata": {},
   "outputs": [
    {
     "ename": "Error",
     "evalue": "Session cannot generate requests",
     "output_type": "error",
     "traceback": [
      "Error: Session cannot generate requests",
      "at w.executeCodeCell (/home/ygael/.vscode/extensions/ms-toolsai.jupyter-2021.6.999662501/out/client/extension.js:90:328422)",
      "at w.execute (/home/ygael/.vscode/extensions/ms-toolsai.jupyter-2021.6.999662501/out/client/extension.js:90:327811)",
      "at w.start (/home/ygael/.vscode/extensions/ms-toolsai.jupyter-2021.6.999662501/out/client/extension.js:90:323627)",
      "at runMicrotasks (<anonymous>)",
      "at processTicksAndRejections (internal/process/task_queues.js:93:5)",
      "at async t.CellExecutionQueue.executeQueuedCells (/home/ygael/.vscode/extensions/ms-toolsai.jupyter-2021.6.999662501/out/client/extension.js:90:338053)",
      "at async t.CellExecutionQueue.start (/home/ygael/.vscode/extensions/ms-toolsai.jupyter-2021.6.999662501/out/client/extension.js:90:337593)"
     ]
    }
   ],
   "source": [
    "# Simple pygame program\n",
    "\n",
    "# Import and initialize the pygame library\n",
    "import pygame\n",
    "pygame.init()\n",
    "\n",
    "# Set up the drawing window\n",
    "screen = pygame.display.set_mode([500, 500])\n",
    "\n",
    "# Run until the user asks to quit\n",
    "running = True\n",
    "while running:\n",
    "\n",
    "    # Did the user click the window close button?\n",
    "    for event in pygame.event.get():\n",
    "        if event.type == pygame.QUIT:\n",
    "            running = False\n",
    "\n",
    "   \n",
    "\n",
    "# Done! Time to quit.\n",
    "pygame.quit()"
   ]
  },
  {
   "cell_type": "code",
   "execution_count": null,
   "metadata": {},
   "outputs": [],
   "source": []
  },
  {
   "cell_type": "code",
   "execution_count": null,
   "metadata": {},
   "outputs": [],
   "source": []
  },
  {
   "cell_type": "code",
   "execution_count": null,
   "metadata": {},
   "outputs": [],
   "source": []
  },
  {
   "cell_type": "code",
   "execution_count": null,
   "metadata": {},
   "outputs": [],
   "source": []
  }
 ],
 "metadata": {
  "interpreter": {
   "hash": "566c7dc836cf49ea79a80bde3a77d731ae67019fab1def2dd83c01090ce827fd"
  },
  "kernelspec": {
   "display_name": "Python 3.8.5 64-bit ('DataViz': conda)",
   "name": "python3"
  },
  "language_info": {
   "codemirror_mode": {
    "name": "ipython",
    "version": 3
   },
   "file_extension": ".py",
   "mimetype": "text/x-python",
   "name": "python",
   "nbconvert_exporter": "python",
   "pygments_lexer": "ipython3",
   "version": "3.8.5"
  },
  "orig_nbformat": 4
 },
 "nbformat": 4,
 "nbformat_minor": 2
}
