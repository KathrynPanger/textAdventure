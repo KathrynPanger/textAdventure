{
  "cells": [
    {
      "cell_type": "code",
      "source": [
        "import enum\n",
        "import pygame\n",
        "from dataclasses import dataclass"
      ],
      "outputs": [],
      "execution_count": null,
      "metadata": {
        "jupyter": {
          "source_hidden": false,
          "outputs_hidden": false
        },
        "nteract": {
          "transient": {
            "deleting": false
          }
        }
      }
    },
    {
      "cell_type": "code",
      "source": [
        "class player:\n",
        "    def __init__(self, name, x, y):\n",
        "        self.name= name\n",
        "        self.inventory = []\n",
        "        self.x = x\n",
        "        self.y = y\n",
        "\n",
        "    def getItem(item):\n",
        "        self.inventory.append(item)\n",
        "\n",
        "    def loseItem(item):\n",
        "        self.inventory.remove(item)\n",
        "\n",
        "    def moveTo(location):\n",
        "        self.location=location"
      ],
      "outputs": [],
      "execution_count": null,
      "metadata": {
        "jupyter": {
          "source_hidden": false,
          "outputs_hidden": false
        },
        "nteract": {
          "transient": {
            "deleting": false
          }
        }
      }
    },
    {
      "cell_type": "code",
      "source": [
        "class map:\n",
        "    def __init__(self):\n"
      ],
      "outputs": [],
      "execution_count": null,
      "metadata": {
        "jupyter": {
          "source_hidden": false,
          "outputs_hidden": false
        },
        "nteract": {
          "transient": {
            "deleting": false
          }
        }
      }
    },
    {
      "cell_type": "code",
      "source": [
        "class room:\n",
        "    def __init__(self, name, description, briefDescription, loot, scenery, supporters, x, y, is_dark inventory):\n",
        "        self.name= name\n",
        "        self.is_visited=False\n",
        "        self.is_dark = False\n",
        "        self.description = description\n",
        "        self.briefDescription=briefDescription\n",
        "        self.intentory=inventory\n",
        "        self.exits = exits #an array of n,s,e,w exits (e.g. [0,0,1,1])\n",
        "        self.x = x\n",
        "        self.y = y\n",
        "\n",
        "    def getItem(self,item):\n",
        "        self.inventory.append(item)\n",
        "\n",
        "    def loseItem(self,item):\n",
        "        self.things.remove(item)\n",
        "\n",
        "    def visit(self):\n",
        "        self.is_visited=True\n",
        "\n"
      ],
      "outputs": [],
      "execution_count": null,
      "metadata": {
        "jupyter": {
          "source_hidden": false,
          "outputs_hidden": false
        },
        "nteract": {
          "transient": {
            "deleting": false
          }
        }
      }
    },
    {
      "cell_type": "code",
      "source": [],
      "outputs": [],
      "execution_count": null,
      "metadata": {
        "jupyter": {
          "source_hidden": false,
          "outputs_hidden": false
        },
        "nteract": {
          "transient": {
            "deleting": false
          }
        }
      }
    },
    {
      "cell_type": "code",
      "source": [
        "class Kind(enum.Enum):\n",
        "    supporter = enum.auto()\n",
        "    container = enum.auto()\n",
        "    carryable = enum.auto()\n",
        "    scenery = enum.auto()\n",
        "\n",
        "class thing:\n",
        "    def __init__(self, name, description, briefDescription, kind, location):\n",
        "        self.name = name\n",
        "        self.kind = Kind[kind]\n",
        "        self.description = description\n",
        "        self.briefDescription = briefDescription\n",
        "        self.location = location\n",
        "        self.is_haunted = False\n",
        "\n",
        "    def take(self,is_held):\n",
        "        if is_held == False:\n",
        "            self.is_held = True\n",
        "\n",
        "    def haunt(self,is_held):\n",
        "        if is_haunted == False:\n",
        "            self.is_held = True"
      ],
      "outputs": [],
      "execution_count": null,
      "metadata": {
        "jupyter": {
          "source_hidden": false,
          "outputs_hidden": false
        },
        "nteract": {
          "transient": {
            "deleting": false
          }
        }
      }
    },
    {
      "cell_type": "code",
      "source": [
        "def flatten_list(_2d_list):\n",
        "    flat_list = []\n",
        "    # Iterate through the outer list\n",
        "    for element in _2d_list:\n",
        "        if type(element) is list:\n",
        "            # If the element is of type list, iterate through the sublist\n",
        "            for item in element:\n",
        "                flat_list.append(item)\n",
        "        else:\n",
        "            flat_list.append(element)\n",
        "    return flat_list\n"
      ],
      "outputs": [],
      "execution_count": null,
      "metadata": {
        "jupyter": {
          "source_hidden": false,
          "outputs_hidden": false
        },
        "nteract": {
          "transient": {
            "deleting": false
          }
        }
      }
    },
    {
      "cell_type": "code",
      "source": [
        "class Action(enum.Enum):\n",
        "    take = enum.auto()\n",
        "    drop = enum.auto()\n",
        "    use = enum.auto()\n",
        "    openIt = enum.auto()\n",
        "    closeIt = enum.auto()\n",
        "    look = enum.auto()\n",
        "    read = enum.auto()\n",
        "    push = enum.auto()\n",
        "    pull = enum.auto()\n",
        "    switchOn = enum.auto()\n",
        "    switchOff = enum.auto()\n",
        "    toggle = enum.auto()\n",
        "    inventory = enum.auto()\n",
        "    go = enum.auto()\n",
        "    fail = enum.auto()\n",
        "    cast = enum.auto()\n",
        "\n",
        "\n",
        "class Spell(enum.Enum):\n",
        "    rezrov = enum.auto()\n",
        "    kendall = enum.auto()\n",
        "    spakemoon = enum.auto()\n",
        "    frotz = enum.auto()\n",
        "    gnustu = enum.auto\n",
        "\n",
        "\n",
        "\n",
        "#Command restructuring vars\n",
        "twoWordsList={\"pick up\",\"check inventory\", \"look at\"}\n",
        "removeList={\"up\", \"check\", \"switch\", \"with\", \"on\", \"in\", \"at\", \"the\", \"and\"}\n",
        "\n",
        "#Action lists\n",
        "takeList={\"take\",\"grab\", \"pick\"}\n",
        "dropList = {\"put\", \"drop\"}\n",
        "useList={\"combine\",\"use\", \"put\"}\n",
        "openList={\"open\"}\n",
        "closeList={\"close\", \"shut\"}\n",
        "lookList={\"look\",\"examine\"}\n",
        "readList = {\"read\"}\n",
        "pushList = {\"push\"}\n",
        "pullList = {\"pull\"}\n",
        "switchList = {\"switch\", \"turn\", \"press\", \"flip\"}\n",
        "inventoryList = {\"i\", \"inventory\"}\n",
        "goList = {\"go\", \"move\"}\n",
        "droplist={\"drop\"}\n",
        "castList = {\"cast\"}\n",
        "directionList = {\"n\",\"s\",\"e\",\"w\", \"north\",\"south\",\"east\",\"west\",\"up\",\"u\",\"down\",\"d\"}\n",
        "\n",
        "#spell list\n",
        "spellList={\"rezrov\", \"kendall\", \"spakemoon\", \"throck\", \"frotz\", \"gnusto\"}\n",
        "\n",
        "actionLists=(takeList | dropList | useList | openList | closeList | lookList |\n",
        "    pushList | pullList | switchList | inventoryList | goList | directionList | droplist | castList | readList)\n",
        "\n",
        "\n",
        "def validateCommand(command):\n",
        "\n",
        "    is_valid=True\n",
        "    theAction = Action.fail\n",
        "    theNoun = None\n",
        "    theSecondNoun = None\n",
        "    theCommand=command.lower().split()\n",
        "    if theCommand[1] == \"on\":\n",
        "        theCommand[1] = \"onn\"\n",
        "        print(theCommand)\n",
        "    firstWord=theCommand[0]\n",
        "    secondWord= theCommand[1]\n",
        "    lastWord= theCommand[-1]\n",
        "\n",
        "\n",
        "    theCommand=[item for item in theCommand if item not in removeList]\n",
        "    if firstWord not in actionLists or len(theCommand)>3:\n",
        "        is_valid=False\n",
        "    elif firstWord in goList or firstWord in directionList:\n",
        "        theCommand = [item for item in theCommand if item not in goList]\n",
        "        if len(theCommand) == 1 and theCommand[0] in directionList:\n",
        "            theAction = Action.go\n",
        "            theNoun = theCommand[0][0]\n",
        "        else:\n",
        "            is_valid=False\n",
        "    elif firstWord in takeList:\n",
        "        theAction= Action.take\n",
        "        theNoun = theCommand[2]\n",
        "    elif firstWord in droplist:\n",
        "        theAction=Action.drop\n",
        "        theNoun = theCommand[2]\n",
        "    elif firstWord in useList and len(theCommand)==3:\n",
        "        theAction= Action.use\n",
        "        theNoun = secondWord\n",
        "        theSecondNoun = lastWord\n",
        "    elif firstWord in openList:\n",
        "        theAction= Action.openIt\n",
        "    elif firstWord in closeList:\n",
        "        theAction= Action.closeIt\n",
        "    elif firstWord in lookList and len(theCommand<=2):\n",
        "        theAction=Action.look\n",
        "        if len(theCommand)==2:\n",
        "            theNoun = secondWord\n",
        "        else:\n",
        "            theNoun = secondWord\n",
        "    elif firstWord in switchList:\n",
        "        theNoun = secondWord\n",
        "        if secondWord == \"onn\":\n",
        "            theAction = Action.switchOn\n",
        "        elif secondWord == \"off\":\n",
        "            theAction = Action.switchOff\n",
        "    elif firstWord in readList:\n",
        "        theAction=Action.read\n",
        "        theNoun = secondWord\n",
        "    elif firstWord in pushList:\n",
        "        theAction = Action.push\n",
        "        theNoun = secondWord\n",
        "    elif firstWord in pullList:\n",
        "        theAction=Action.pull\n",
        "        theNoun = secondWord\n",
        "    elif firstWord in castList and secondWord in spellList:\n",
        "        theAction = Action.cast\n",
        "        theNoun=secondWord\n",
        "        theSecondNoun=lastWord\n",
        "    elif firstWord in inventoryList and len(theCommand == 1):\n",
        "        theAction = Action.inventory\n",
        "        theNoun=\"i\"\n",
        "    else:\n",
        "        is_valid = False\n",
        "\n",
        "    return(is_valid,theAction,theNoun, theSecondNoun)"
      ],
      "outputs": [],
      "execution_count": null,
      "metadata": {
        "jupyter": {
          "source_hidden": false,
          "outputs_hidden": false
        },
        "nteract": {
          "transient": {
            "deleting": false
          }
        }
      }
    },
    {
      "cell_type": "code",
      "source": [
        "validateCommand(\"use tree with bug\")"
      ],
      "outputs": [],
      "execution_count": null,
      "metadata": {
        "jupyter": {
          "source_hidden": false,
          "outputs_hidden": false
        },
        "nteract": {
          "transient": {
            "deleting": false
          }
        }
      }
    },
    {
      "cell_type": "code",
      "source": [
        "from dataclasses import dataclass\n",
        "\n",
        "@dataclass\n",
        "class map:\n",
        "    floors: {\n",
        "        0: [\n",
        "        [\"Covered Hole\", \"Atrium\",\"Torture Chamber\"],\n",
        "        [None, \"Titan Hallway\", None],\n",
        "        [None, \"Bottom of Pit\", None]\n",
        "\n",
        "        ],\n",
        "        1: [\n",
        "            [\"Cramped Corner\", \"Breaker Box\", None],\n",
        "            [\"Boiler Room\", None, None],\n",
        "            [\"Corridor End\", \"Dark Corridor\", \"Bottom of Stairs\"],\n",
        "            [\"Narrow Gap\", None, None],\n",
        "            [\"Wet Corner\", \"Flooded Pit\"]\n",
        "        ],\n",
        "        2: [\n",
        "            [None, \"car\", None, None],\n",
        "            [\"study\", \"foyer\", \"lounge\" ],\n",
        "            [\"library\", \"main hall\", \"dining room\"],\n",
        "            [\"downstairs bathroom\", \"small hall\", \"Stair Landing\"],\n",
        "            [\"conservatory\", \"ball room\", \"kitchen\"]\n",
        "        ],\n",
        "        3: [\n",
        "            [\"master bathroom\", \"laboratory\", \"secret room\"],\n",
        "            [\"master bedroom\", \"bloody corridor\", \"closet\"],\n",
        "            [\"upstairs bathroom\", \"painted corridor\", \"Top of Stairs\"],\n",
        "            [\"child's bedroom\", \"guest bedroom\", None],\n",
        "            ]\n",
        "        }\n"
      ],
      "outputs": [],
      "execution_count": null,
      "metadata": {
        "jupyter": {
          "source_hidden": false,
          "outputs_hidden": false
        },
        "nteract": {
          "transient": {
            "deleting": false
          }
        }
      }
    },
    {
      "cell_type": "code",
      "source": [
        "from dataclasses import dataclass\n",
        "\n",
        "@dataclass\n",
        "class map:\n",
        "    floors: range(1,3)\n"
      ],
      "outputs": [],
      "execution_count": null,
      "metadata": {
        "jupyter": {
          "source_hidden": false,
          "outputs_hidden": false
        },
        "nteract": {
          "transient": {
            "deleting": false
          }
        }
      }
    },
    {
      "cell_type": "code",
      "source": [
        "turnCount=0\n",
        "gameOn=1\n",
        "while gameOn:\n",
        "    if turnCount == 0:\n",
        "        command=input(\"What is your name?\")\n",
        "        thePlayer=player(command)\n",
        "        turnCount+=1\n",
        "        continue\n",
        "    else:\n",
        "        command=input(f\"{thePlayer.name}:\")\n",
        "        theRoom=thePlayer.room\n",
        "        theLocation=thePlayer.location\n",
        "        turnCount+=1\n",
        "        if command == \"quit\":\n",
        "            gameOn=0"
      ],
      "outputs": [],
      "execution_count": null,
      "metadata": {
        "jupyter": {
          "source_hidden": false,
          "outputs_hidden": false
        },
        "nteract": {
          "transient": {
            "deleting": false
          }
        }
      }
    },
    {
      "cell_type": "code",
      "source": [
        "class Enterable(Protocol)"
      ],
      "outputs": [],
      "execution_count": null,
      "metadata": {
        "jupyter": {
          "source_hidden": false,
          "outputs_hidden": false
        },
        "nteract": {
          "transient": {
            "deleting": false
          }
        }
      }
    },
    {
      "cell_type": "code",
      "source": [
        "pygame.init()\n",
        "screen = pygame.display.set_mode([500,500])\n",
        "running = True\n",
        "while running:\n",
        "    for event in pygame.event.get():\n",
        "        if event.type == pygame.QUIT:\n",
        "            running = False\n",
        "    screen.fill((255,255,255))\n",
        "    pygame.draw.circle(screen, (0,0,255), 250,250, 75)\n",
        "    pygame.display.flip()\n",
        "pygame.quit()"
      ],
      "outputs": [],
      "execution_count": null,
      "metadata": {
        "jupyter": {
          "source_hidden": false,
          "outputs_hidden": false
        },
        "nteract": {
          "transient": {
            "deleting": false
          }
        }
      }
    },
    {
      "cell_type": "code",
      "source": [],
      "outputs": [],
      "execution_count": null,
      "metadata": {
        "jupyter": {
          "source_hidden": false,
          "outputs_hidden": false
        },
        "nteract": {
          "transient": {
            "deleting": false
          }
        }
      }
    },
    {
      "cell_type": "code",
      "source": [
        "# Simple pygame program\n",
        "\n",
        "# Import and initialize the pygame library\n",
        "import pygame\n",
        "pygame.init()\n",
        "\n",
        "# Set up the drawing window\n",
        "screen = pygame.display.set_mode([500, 500])\n",
        "\n",
        "# Run until the user asks to quit\n",
        "running = True\n",
        "while running:\n",
        "\n",
        "    # Did the user click the window close button?\n",
        "    for event in pygame.event.get():\n",
        "        if event.type == pygame.QUIT:\n",
        "            running = False\n",
        "\n",
        "\n",
        "\n",
        "# Done! Time to quit.\n",
        "pygame.quit()"
      ],
      "outputs": [],
      "execution_count": null,
      "metadata": {
        "jupyter": {
          "source_hidden": false,
          "outputs_hidden": false
        },
        "nteract": {
          "transient": {
            "deleting": false
          }
        }
      }
    },
    {
      "cell_type": "code",
      "source": [],
      "outputs": [],
      "execution_count": null,
      "metadata": {
        "jupyter": {
          "source_hidden": false,
          "outputs_hidden": false
        },
        "nteract": {
          "transient": {
            "deleting": false
          }
        }
      }
    },
    {
      "cell_type": "code",
      "source": [],
      "outputs": [],
      "execution_count": null,
      "metadata": {
        "jupyter": {
          "source_hidden": false,
          "outputs_hidden": false
        },
        "nteract": {
          "transient": {
            "deleting": false
          }
        }
      }
    },
    {
      "cell_type": "code",
      "source": [],
      "outputs": [],
      "execution_count": null,
      "metadata": {
        "jupyter": {
          "source_hidden": false,
          "outputs_hidden": false
        },
        "nteract": {
          "transient": {
            "deleting": false
          }
        }
      }
    },
    {
      "cell_type": "code",
      "source": [],
      "outputs": [],
      "execution_count": null,
      "metadata": {
        "jupyter": {
          "source_hidden": false,
          "outputs_hidden": false
        },
        "nteract": {
          "transient": {
            "deleting": false
          }
        }
      }
    }
  ],
  "metadata": {
    "kernelspec": {
      "argv": [
        "/home/ygael/anaconda3/envs/DataViz/bin/python",
        "-m",
        "ipykernel_launcher",
        "-f",
        "{connection_file}"
      ],
      "display_name": "Python 3",
      "language": "python",
      "name": "python3"
    }
  },
  "nbformat": 4,
  "nbformat_minor": 0
}